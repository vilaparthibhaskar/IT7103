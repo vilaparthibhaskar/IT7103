{
  "cells": [
    {
      "cell_type": "markdown",
      "metadata": {
        "id": "view-in-github",
        "colab_type": "text"
      },
      "source": [
        "<a href=\"https://colab.research.google.com/github/vilaparthibhaskar/IT7103/blob/main/Group17_courseproject_PDA.ipynb\" target=\"_parent\"><img src=\"https://colab.research.google.com/assets/colab-badge.svg\" alt=\"Open In Colab\"/></a>"
      ]
    },
    {
      "cell_type": "markdown",
      "metadata": {
        "id": "-O_Vj-LvLFDm"
      },
      "source": [
        "# Group-17\n"
      ]
    },
    {
      "cell_type": "markdown",
      "metadata": {
        "id": "8ou7DtEILFDr"
      },
      "source": [
        "# U.S. Adult Income Dataset"
      ]
    },
    {
      "cell_type": "markdown",
      "metadata": {
        "id": "-FdYCgZqZ2OW"
      },
      "source": [
        "###  Data/Preliminary Analysis"
      ]
    },
    {
      "cell_type": "code",
      "execution_count": null,
      "metadata": {
        "colab": {
          "base_uri": "https://localhost:8080/"
        },
        "id": "mxTxmoxxZ2OY",
        "outputId": "1fb06f13-0dd4-42f3-83f9-75c02aa1fa52"
      },
      "outputs": [
        {
          "output_type": "stream",
          "name": "stdout",
          "text": [
            "Drive already mounted at /content/drive; to attempt to forcibly remount, call drive.mount(\"/content/drive\", force_remount=True).\n",
            "<class 'pandas.core.frame.DataFrame'>\n",
            "RangeIndex: 32560 entries, 0 to 32559\n",
            "Data columns (total 15 columns):\n",
            " #   Column          Non-Null Count  Dtype \n",
            "---  ------          --------------  ----- \n",
            " 0   Age             32560 non-null  int64 \n",
            " 1   Workclass       30724 non-null  object\n",
            " 2   fnlwgt          32560 non-null  int64 \n",
            " 3   education       32560 non-null  object\n",
            " 4   education num   32560 non-null  int64 \n",
            " 5   martial status  32560 non-null  object\n",
            " 6   occupation      30717 non-null  object\n",
            " 7   relationship    32560 non-null  object\n",
            " 8   race            32560 non-null  object\n",
            " 9   sex             32560 non-null  object\n",
            " 10  capital gain    32560 non-null  int64 \n",
            " 11  capital loss    32560 non-null  int64 \n",
            " 12  hours-per-week  32560 non-null  int64 \n",
            " 13  native country  31977 non-null  object\n",
            " 14  income          32560 non-null  object\n",
            "dtypes: int64(6), object(9)\n",
            "memory usage: 3.7+ MB\n",
            "None\n",
            "\n",
            "\n",
            "   Age          Workclass  fnlwgt   education  education num  \\\n",
            "0   50   Self-emp-not-inc   83311   Bachelors             13   \n",
            "1   38            Private  215646     HS-grad              9   \n",
            "2   53            Private  234721        11th              7   \n",
            "3   28            Private  338409   Bachelors             13   \n",
            "4   37            Private  284582     Masters             14   \n",
            "\n",
            "        martial status          occupation    relationship    race      sex  \\\n",
            "0   Married-civ-spouse     Exec-managerial         Husband   White     Male   \n",
            "1             Divorced   Handlers-cleaners   Not-in-family   White     Male   \n",
            "2   Married-civ-spouse   Handlers-cleaners         Husband   Black     Male   \n",
            "3   Married-civ-spouse      Prof-specialty            Wife   Black   Female   \n",
            "4   Married-civ-spouse     Exec-managerial            Wife   White   Female   \n",
            "\n",
            "   capital gain  capital loss  hours-per-week  native country  income  \n",
            "0             0             0              13   United-States   <=50K  \n",
            "1             0             0              40   United-States   <=50K  \n",
            "2             0             0              40   United-States   <=50K  \n",
            "3             0             0              40            Cuba   <=50K  \n",
            "4             0             0              40   United-States   <=50K  \n"
          ]
        }
      ],
      "source": [
        "\n",
        "import numpy as np\n",
        "import pandas as pd\n",
        "from collections import Counter\n",
        "from google.colab import drive\n",
        "drive.mount('/content/drive')\n",
        "\n",
        "# Loading data_set\n",
        "adult_income = pd.read_csv('/content/drive/MyDrive/PDA/adult.data')\n",
        "adult_income.columns =['Age', 'Workclass', 'fnlwgt', 'education', 'education num', 'martial status', 'occupation', 'relationship', 'race', 'sex', 'capital gain', 'capital loss', 'hours-per-week', 'native country', 'income']\n",
        "# replacing ? as null\n",
        "hold = adult_income['Workclass'][26]\n",
        "adult_income.replace(hold, pd.NA, inplace=True)\n",
        "\n",
        "print(adult_income.info())\n",
        "print(\"\\n\")\n",
        "print(adult_income.head())"
      ]
    },
    {
      "cell_type": "code",
      "execution_count": null,
      "metadata": {
        "colab": {
          "base_uri": "https://localhost:8080/"
        },
        "id": "DIhCMVrfZ2PB",
        "outputId": "a5ce31ca-65ba-4d0e-f3e3-37765f919ab5"
      },
      "outputs": [
        {
          "output_type": "stream",
          "name": "stdout",
          "text": [
            "Checking missing values:\n",
            "\n",
            "The column: 'Workclass' with Data Type: 'object' has missing value: 1836, percentage: 5.64%\n",
            "The column: 'occupation' with Data Type: 'object' has missing value: 1843, percentage: 5.66%\n",
            "The column: 'native country' with Data Type: 'object' has missing value: 583, percentage: 1.79%\n"
          ]
        }
      ],
      "source": [
        "# checking missing values\n",
        "print(\"Checking missing values:\\n\")\n",
        "for column in adult_income.columns:\n",
        "    if adult_income[column].isnull().sum() != 0:\n",
        "        mis_val = adult_income[column].isnull().sum()\n",
        "        per = mis_val / len(adult_income[column]) * 100\n",
        "        dtype = adult_income[column].dtype\n",
        "        print(f\"The column: '{column}' with Data Type: '{dtype}' has missing value: {mis_val}, percentage: {per:.2f}%\")\n",
        "\n",
        "# cleaning the memory\n",
        "del mis_val\n",
        "del per\n",
        "del dtype"
      ]
    },
    {
      "cell_type": "code",
      "execution_count": null,
      "metadata": {
        "colab": {
          "base_uri": "https://localhost:8080/"
        },
        "id": "sfzNMbGsZ2PE",
        "outputId": "e80f10d8-00d6-4af1-c643-7219b7a52495"
      },
      "outputs": [
        {
          "output_type": "stream",
          "name": "stdout",
          "text": [
            "Class:  <=50K, Count = 24719, Percentage = 75.9%.\n",
            "Class:  >50K, Count = 7841, Percentage = 24.1%.\n"
          ]
        }
      ],
      "source": [
        "# check the label class and it's distribution percentage\n",
        "label = adult_income.values[:, -1]\n",
        "counter = Counter(label)\n",
        "for key, val in counter.items():\n",
        "    per = val / len(label) * 100\n",
        "    print(f\"Class: {key}, Count = {val}, Percentage = {per:.1f}%.\")"
      ]
    },
    {
      "cell_type": "code",
      "execution_count": null,
      "metadata": {
        "id": "q_ETX3qsZ2PF"
      },
      "outputs": [],
      "source": [
        "num = adult_income.select_dtypes(include=['int64', 'float64'])"
      ]
    },
    {
      "cell_type": "code",
      "execution_count": null,
      "metadata": {
        "colab": {
          "base_uri": "https://localhost:8080/"
        },
        "id": "G4Vtr9g9Z2PH",
        "outputId": "a9ec3089-5817-4e6c-e0a5-1ccc2a040a9f"
      },
      "outputs": [
        {
          "output_type": "stream",
          "name": "stdout",
          "text": [
            "       Age  fnlwgt  education num  capital gain  capital loss  hours-per-week\n",
            "0       50   83311             13             0             0              13\n",
            "1       38  215646              9             0             0              40\n",
            "2       53  234721              7             0             0              40\n",
            "3       28  338409             13             0             0              40\n",
            "4       37  284582             14             0             0              40\n",
            "...    ...     ...            ...           ...           ...             ...\n",
            "32555   27  257302             12             0             0              38\n",
            "32556   40  154374              9             0             0              40\n",
            "32557   58  151910              9             0             0              40\n",
            "32558   22  201490              9             0             0              20\n",
            "32559   52  287927              9         15024             0              40\n",
            "\n",
            "[32560 rows x 6 columns]\n"
          ]
        }
      ],
      "source": [
        "print(num)"
      ]
    },
    {
      "cell_type": "code",
      "execution_count": null,
      "metadata": {
        "colab": {
          "base_uri": "https://localhost:8080/",
          "height": 887
        },
        "id": "ix1KqrJlZ2PJ",
        "outputId": "9be494b1-80f7-46eb-b687-ace5e377cd89"
      },
      "outputs": [
        {
          "output_type": "display_data",
          "data": {
            "text/plain": [
              "<Figure size 2000x1500 with 6 Axes>"
            ],
            "image/png": "[encoded data removed]"
          },
          "metadata": {}
        }
      ],
      "source": [
        "import matplotlib.pyplot as plt\n",
        "num.hist(bins=20, figsize=(20, 15))\n",
        "plt.show()"
      ]
    },
    {
      "cell_type": "markdown",
      "metadata": {
        "id": "hXH-Pq3kZ2PK"
      },
      "source": [
        "### Data Preprocessing"
      ]
    },
    {
      "cell_type": "code",
      "execution_count": null,
      "metadata": {
        "colab": {
          "base_uri": "https://localhost:8080/"
        },
        "id": "Be2ZMCCbZ2PL",
        "outputId": "d90a83c0-b9e3-4dd2-fa96-e3f8d3c90452"
      },
      "outputs": [
        {
          "output_type": "stream",
          "name": "stdout",
          "text": [
            "<class 'pandas.core.frame.DataFrame'>\n",
            "RangeIndex: 32560 entries, 0 to 32559\n",
            "Data columns (total 15 columns):\n",
            " #   Column          Non-Null Count  Dtype \n",
            "---  ------          --------------  ----- \n",
            " 0   Age             32560 non-null  int64 \n",
            " 1   Workclass       32560 non-null  object\n",
            " 2   fnlwgt          32560 non-null  int64 \n",
            " 3   education       32560 non-null  object\n",
            " 4   education num   32560 non-null  int64 \n",
            " 5   martial status  32560 non-null  object\n",
            " 6   occupation      32560 non-null  object\n",
            " 7   relationship    32560 non-null  object\n",
            " 8   race            32560 non-null  object\n",
            " 9   sex             32560 non-null  object\n",
            " 10  capital gain    32560 non-null  int64 \n",
            " 11  capital loss    32560 non-null  int64 \n",
            " 12  hours-per-week  32560 non-null  int64 \n",
            " 13  native country  32560 non-null  object\n",
            " 14  income          32560 non-null  object\n",
            "dtypes: int64(6), object(9)\n",
            "memory usage: 3.7+ MB\n",
            "None\n"
          ]
        }
      ],
      "source": [
        "adult_income = adult_income.fillna(adult_income.mode().iloc[0])\n",
        "print(adult_income.info())"
      ]
    },
    {
      "cell_type": "code",
      "execution_count": null,
      "metadata": {
        "colab": {
          "base_uri": "https://localhost:8080/"
        },
        "id": "N3ImJvHuZ2PO",
        "outputId": "11987bb8-f7f5-4f05-aa8f-b200d1ed36f6"
      },
      "outputs": [
        {
          "output_type": "stream",
          "name": "stdout",
          "text": [
            "                Age        fnlwgt  education num  capital gain  capital loss  \\\n",
            "count  32560.000000  3.256000e+04   32560.000000  32560.000000  32560.000000   \n",
            "mean      38.581634  1.897818e+05      10.080590   1077.615172     87.306511   \n",
            "std       13.640642  1.055498e+05       2.572709   7385.402999    402.966116   \n",
            "min       17.000000  1.228500e+04       1.000000      0.000000      0.000000   \n",
            "25%       28.000000  1.178315e+05       9.000000      0.000000      0.000000   \n",
            "50%       37.000000  1.783630e+05      10.000000      0.000000      0.000000   \n",
            "75%       48.000000  2.370545e+05      12.000000      0.000000      0.000000   \n",
            "max       90.000000  1.484705e+06      16.000000  99999.000000   4356.000000   \n",
            "\n",
            "       hours-per-week  \n",
            "count    32560.000000  \n",
            "mean        40.437469  \n",
            "std         12.347618  \n",
            "min          1.000000  \n",
            "25%         40.000000  \n",
            "50%         40.000000  \n",
            "75%         45.000000  \n",
            "max         99.000000  \n"
          ]
        }
      ],
      "source": [
        "# checking any outliers are present\n",
        "print(num.describe())"
      ]
    },
    {
      "cell_type": "code",
      "execution_count": null,
      "metadata": {
        "colab": {
          "base_uri": "https://localhost:8080/"
        },
        "id": "BneBrYe9Z2PP",
        "outputId": "465ab36a-d4bd-4488-fd5b-6952f2090056"
      },
      "outputs": [
        {
          "output_type": "stream",
          "name": "stdout",
          "text": [
            "There are 159 outliers in capital gain column\n",
            "There are 85 outliers in hours-per-week column\n"
          ]
        }
      ],
      "source": [
        "# checking the quantity of the outliers\n",
        "print(f\"There are {adult_income[adult_income['capital gain'] == 99999].shape[0]} outliers in capital gain column\")\n",
        "print(f\"There are {adult_income[adult_income['hours-per-week'] == 99].shape[0]} outliers in hours-per-week column\")"
      ]
    },
    {
      "cell_type": "code",
      "execution_count": null,
      "metadata": {
        "colab": {
          "base_uri": "https://localhost:8080/"
        },
        "id": "qKepXhTBZ2PQ",
        "outputId": "dc74e9cd-f242-41ef-be51-e9a7bf451c0f"
      },
      "outputs": [
        {
          "output_type": "stream",
          "name": "stdout",
          "text": [
            "                Age        fnlwgt  education num  capital gain  capital loss  \\\n",
            "count  32560.000000  3.256000e+04   32560.000000  32560.000000  32560.000000   \n",
            "mean      38.581634  1.897818e+05      10.080590    594.553127     87.306511   \n",
            "std       13.640642  1.055498e+05       2.572709   2554.248860    402.966116   \n",
            "min       17.000000  1.228500e+04       1.000000      0.000000      0.000000   \n",
            "25%       28.000000  1.178315e+05       9.000000      0.000000      0.000000   \n",
            "50%       37.000000  1.783630e+05      10.000000      0.000000      0.000000   \n",
            "75%       48.000000  2.370545e+05      12.000000      0.000000      0.000000   \n",
            "max       90.000000  1.484705e+06      16.000000  41310.000000   4356.000000   \n",
            "\n",
            "       hours-per-week  \n",
            "count    32560.000000  \n",
            "mean        40.284588  \n",
            "std         11.978602  \n",
            "min          1.000000  \n",
            "25%         40.000000  \n",
            "50%         40.000000  \n",
            "75%         45.000000  \n",
            "max         98.000000  \n"
          ]
        }
      ],
      "source": [
        "# replacing the outliers with mean values\n",
        "adult_income['capital gain'].replace(99999, np.mean(adult_income['capital gain'].values), inplace=True)\n",
        "adult_income['hours-per-week'].replace(99, np.mean(adult_income['hours-per-week'].values), inplace=True)\n",
        "print(adult_income.describe())"
      ]
    },
    {
      "cell_type": "code",
      "execution_count": null,
      "metadata": {
        "id": "tqcq7fR5Z2PS"
      },
      "outputs": [],
      "source": [
        "adult_income.to_csv('/adult_preprocessed.csv', index=False)"
      ]
    },
    {
      "cell_type": "markdown",
      "metadata": {
        "id": "oBaXQy8QZ2PT"
      },
      "source": [
        "### Modeling and Result"
      ]
    },
    {
      "cell_type": "code",
      "execution_count": null,
      "metadata": {
        "id": "_eAZ5vA_Z2PT"
      },
      "outputs": [],
      "source": [
        "import pandas as pd\n",
        "import numpy as np\n",
        "from sklearn.preprocessing import LabelEncoder\n",
        "from sklearn.preprocessing import OneHotEncoder\n",
        "from sklearn.preprocessing import MinMaxScaler\n",
        "from sklearn.pipeline import Pipeline\n",
        "from sklearn.compose import ColumnTransformer\n",
        "from sklearn.model_selection import cross_val_score\n",
        "from sklearn.model_selection import RepeatedStratifiedKFold\n",
        "\n",
        "\n",
        "def Loading(name):\n",
        "    df = pd.read_csv(name)\n",
        "    X, y = df.iloc[:, :-1], df.iloc[:, -1]\n",
        "    cate_index = X.select_dtypes(include=['object']).columns\n",
        "    num_index = X.select_dtypes(include=['int64', 'float64']).columns\n",
        "    y = LabelEncoder().fit_transform(y)\n",
        "\n",
        "    return X, y, cate_index, num_index\n",
        "\n",
        "def evaluate_model(X, y, model):\n",
        "    cv = RepeatedStratifiedKFold(n_splits=10, n_repeats=3, random_state=42)\n",
        "    scores = cross_val_score(model, X, y, scoring='accuracy', cv=cv, n_jobs=-1)\n",
        "\n",
        "    return scores"
      ]
    },
    {
      "cell_type": "code",
      "execution_count": null,
      "metadata": {
        "id": "GN0hWOT_Z2PU"
      },
      "outputs": [],
      "source": [
        "from sklearn.dummy import DummyClassifier\n",
        "\n",
        "X, y, cate_index, num_index = Loading('/adult_preprocessed.csv')\n",
        "model = DummyClassifier(strategy='most_frequent')"
      ]
    },
    {
      "cell_type": "code",
      "execution_count": null,
      "metadata": {
        "colab": {
          "base_uri": "https://localhost:8080/"
        },
        "id": "_r5IkYGwZ2PV",
        "outputId": "48ea8f08-6bd9-43b3-c07d-078db7736477"
      },
      "outputs": [
        {
          "output_type": "stream",
          "name": "stdout",
          "text": [
            "[0.75921376 0.75921376 0.75921376 0.75921376 0.75921376 0.75921376\n",
            " 0.75921376 0.75921376 0.75921376 0.75890663 0.75921376 0.75921376\n",
            " 0.75921376 0.75921376 0.75921376 0.75921376 0.75921376 0.75921376\n",
            " 0.75921376 0.75890663 0.75921376 0.75921376 0.75921376 0.75921376\n",
            " 0.75921376 0.75921376 0.75921376 0.75921376 0.75921376 0.75890663]\n"
          ]
        }
      ],
      "source": [
        "scores = evaluate_model(X, y, model)\n",
        "print(scores)"
      ]
    },
    {
      "cell_type": "code",
      "execution_count": null,
      "metadata": {
        "colab": {
          "base_uri": "https://localhost:8080/"
        },
        "id": "fYL7zyPTZ2PW",
        "outputId": "f80a33df-a3ac-410f-8f17-ff1b51450507"
      },
      "outputs": [
        {
          "output_type": "stream",
          "name": "stdout",
          "text": [
            "The mean accuracy of Dummy Classifier is  75.92%, with Standard Deviation: 0.00\n"
          ]
        }
      ],
      "source": [
        "print(f\"The mean accuracy of Dummy Classifier is  {(np.mean(scores)*100):.2f}%, with Standard Deviation: {np.std(scores):.2f}\")"
      ]
    },
    {
      "cell_type": "markdown",
      "metadata": {
        "id": "0re65SqvZ2PY"
      },
      "source": [
        "### Model Evaluate and Fine Tune"
      ]
    },
    {
      "cell_type": "code",
      "execution_count": null,
      "metadata": {
        "colab": {
          "base_uri": "https://localhost:8080/"
        },
        "id": "0HZ5Eei0Z2PZ",
        "outputId": "644e071e-973b-4659-acf3-a2fb7d3cb05b"
      },
      "outputs": [
        {
          "output_type": "stream",
          "name": "stdout",
          "text": [
            "<class 'pandas.core.frame.DataFrame'>\n",
            "(32560, 14)\n",
            "<class 'numpy.ndarray'>\n",
            "(32560,)\n"
          ]
        }
      ],
      "source": [
        "import numpy as np\n",
        "import pandas as pd\n",
        "from sklearn.preprocessing import LabelEncoder\n",
        "from sklearn.preprocessing import OneHotEncoder\n",
        "from sklearn.preprocessing import MinMaxScaler\n",
        "from sklearn.pipeline import Pipeline\n",
        "from sklearn.model_selection import cross_val_score\n",
        "from sklearn.model_selection import train_test_split\n",
        "from sklearn.model_selection import RepeatedStratifiedKFold\n",
        "from sklearn.ensemble import GradientBoostingClassifier\n",
        "from sklearn.tree import DecisionTreeClassifier\n",
        "from sklearn.ensemble import RandomForestClassifier\n",
        "from sklearn.neural_network import MLPClassifier\n",
        "from sklearn.svm import SVC\n",
        "from sklearn.ensemble import BaggingClassifier\n",
        "\n",
        "def load_dataset(filename):\n",
        "    df = pd.read_csv(filename)\n",
        "    X, y = df.iloc[:, :-1], df.iloc[:, -1]\n",
        "    cate_index = X.select_dtypes(include=['object']).columns\n",
        "    num_index = X.select_dtypes(include=['int64', 'float64']).columns\n",
        "    y = LabelEncoder().fit_transform(y)\n",
        "    return X, y, cate_index, num_index\n",
        "\n",
        "X, y, cate_index, num_index = load_dataset('/adult_cleaned.csv')\n",
        "print(type(X))\n",
        "print(X.shape)\n",
        "print(type(y))\n",
        "print(y.shape)"
      ]
    },
    {
      "cell_type": "code",
      "execution_count": null,
      "metadata": {
        "colab": {
          "base_uri": "https://localhost:8080/"
        },
        "id": "kPKOhgLsZ2Pa",
        "outputId": "9da9ac44-5ce9-48a2-a4cb-d33ab2ea9f1f"
      },
      "outputs": [
        {
          "output_type": "stream",
          "name": "stdout",
          "text": [
            "[ColumnTransformer] ... (1 of 2) Processing Categorical, total=   0.1s\n",
            "[ColumnTransformer] ..... (2 of 2) Processing Numerical, total=   0.0s\n",
            "<class 'scipy.sparse._csr.csr_matrix'>\n",
            "(32560, 105)\n"
          ]
        }
      ],
      "source": [
        "steps = [('Categorical', OneHotEncoder(handle_unknown='ignore'), cate_index), ('Numerical', MinMaxScaler(), num_index)]\n",
        "\n",
        "from sklearn.compose import ColumnTransformer\n",
        "transformer = ColumnTransformer(steps, verbose=True)\n",
        "X = transformer.fit_transform(X)\n",
        "\n",
        "print(type(X))\n",
        "print(X.shape)"
      ]
    },
    {
      "cell_type": "code",
      "execution_count": null,
      "metadata": {
        "colab": {
          "base_uri": "https://localhost:8080/"
        },
        "id": "C2q-ewFQZ2Pb",
        "outputId": "95ecfb2b-d5f5-417a-c3f8-806f246d6641"
      },
      "outputs": [
        {
          "output_type": "stream",
          "name": "stdout",
          "text": [
            "(22792, 105)\n",
            "(9768, 105)\n",
            "(22792,)\n",
            "(9768,)\n"
          ]
        }
      ],
      "source": [
        "from sklearn.model_selection import train_test_split\n",
        "\n",
        "X_train, X_test, y_train, y_test = train_test_split(X, y, test_size=0.3, random_state=42, stratify=y)\n",
        "print(X_train.shape)\n",
        "print(X_test.shape)\n",
        "print(y_train.shape)\n",
        "print(y_test.shape)"
      ]
    },
    {
      "cell_type": "code",
      "execution_count": null,
      "metadata": {
        "id": "-zBvMqRdZ2Pb"
      },
      "outputs": [],
      "source": [
        "# filter unwanted warning\n",
        "import warnings\n",
        "warnings.filterwarnings('ignore')\n"
      ]
    },
    {
      "cell_type": "markdown",
      "source": [
        "Evaluating DecisionTree without Tuning"
      ],
      "metadata": {
        "id": "OCRX2Zj20pg9"
      }
    },
    {
      "cell_type": "code",
      "source": [
        "scores = evaluate_model(X_train, y_train, DecisionTreeClassifier())\n",
        "print(f\"The decisiontree model average accuracy is: {(np.mean(scores)*100):.2f}%, with Standard Deviation: {(np.std(scores)*100):.2f}.\")"
      ],
      "metadata": {
        "colab": {
          "base_uri": "https://localhost:8080/"
        },
        "id": "VgCbHoqhsBFo",
        "outputId": "ba70c66c-3972-4c4f-c478-9569b43a35b6"
      },
      "execution_count": null,
      "outputs": [
        {
          "output_type": "stream",
          "name": "stdout",
          "text": [
            "The decisiontree model average accuracy is: 81.00%, with Standard Deviation: 0.72.\n"
          ]
        }
      ]
    },
    {
      "cell_type": "markdown",
      "source": [
        "Evaluating BaggingClassifier without Tuning"
      ],
      "metadata": {
        "id": "QAIVIPV803c7"
      }
    },
    {
      "cell_type": "code",
      "source": [
        "scores = evaluate_model(X_train[:10000], y_train[:10000], BaggingClassifier(n_estimators=100))\n",
        "print(f\"The baggingclassifier model average accuracy is: {(np.mean(scores)*100):.2f}%, with Standard Deviation: {(np.std(scores)*100):.2f}.\")"
      ],
      "metadata": {
        "colab": {
          "base_uri": "https://localhost:8080/"
        },
        "id": "Vsr6WV7CtN48",
        "outputId": "54a0a888-31ea-4f71-b0fa-13ef317b6379"
      },
      "execution_count": null,
      "outputs": [
        {
          "output_type": "stream",
          "name": "stdout",
          "text": [
            "The baggingclassifier model average accuracy is: 84.85%, with Standard Deviation: 0.95.\n"
          ]
        }
      ]
    },
    {
      "cell_type": "markdown",
      "source": [
        "Evaluating RandomForestClassifier without Tuning"
      ],
      "metadata": {
        "id": "PAZ6IfiA07Yh"
      }
    },
    {
      "cell_type": "code",
      "source": [
        "scores = evaluate_model(X_train, y_train, RandomForestClassifier(n_estimators=100))\n",
        "print(f\"The random_tree_classifier model average accuracy is: {(np.mean(scores)*100):.2f}%, with Standard Deviation: {(np.std(scores)*100):.2f}.\")"
      ],
      "metadata": {
        "colab": {
          "base_uri": "https://localhost:8080/"
        },
        "id": "q2-vH4mLtOPB",
        "outputId": "558bddfb-f413-418b-89a3-60d344e007bc"
      },
      "execution_count": null,
      "outputs": [
        {
          "output_type": "stream",
          "name": "stdout",
          "text": [
            "The random_tree_classifier model average accuracy is: 84.94%, with Standard Deviation: 0.49.\n"
          ]
        }
      ]
    },
    {
      "cell_type": "markdown",
      "source": [
        "Evaluating GradientBoostingClassifier without Tuning"
      ],
      "metadata": {
        "id": "RGR7CYzK08gy"
      }
    },
    {
      "cell_type": "code",
      "source": [
        "scores = evaluate_model(X_train, y_train, GradientBoostingClassifier(n_estimators=100))\n",
        "print(f\"The GBM model average accuracy is: {(np.mean(scores)*100):.2f}%, with Standard Deviation: {(np.std(scores)*100):.2f}.\")"
      ],
      "metadata": {
        "colab": {
          "base_uri": "https://localhost:8080/"
        },
        "id": "h5krm6YItOaI",
        "outputId": "65559603-9168-4176-f875-b6d1694bc6cb"
      },
      "execution_count": null,
      "outputs": [
        {
          "output_type": "stream",
          "name": "stdout",
          "text": [
            "The GBM model average accuracy is: 86.31%, with Standard Deviation: 0.60.\n"
          ]
        }
      ]
    },
    {
      "cell_type": "code",
      "execution_count": null,
      "metadata": {
        "id": "gHPZGYhhZ2Pc"
      },
      "outputs": [],
      "source": [
        "# fine tune BaggingClassifier\n",
        "\n",
        "from sklearn.model_selection import GridSearchCV\n",
        "\n",
        "BAGgrid = {'n_estimators': [100, 200]}\n",
        "cv = RepeatedStratifiedKFold(n_splits=5, n_repeats=2, random_state=42)\n",
        "BAGclf = BaggingClassifier()\n",
        "BAGgrid_search = GridSearchCV(estimator=BAGclf, param_grid=BAGgrid, n_jobs=-1, cv=cv,\n",
        "                              scoring='accuracy', error_score=0)\n",
        "BAGgrid_result = BAGgrid_search.fit(X_train[:10000], y_train[:10000])"
      ]
    },
    {
      "cell_type": "code",
      "execution_count": null,
      "metadata": {
        "colab": {
          "base_uri": "https://localhost:8080/"
        },
        "id": "_wk7p_4MZ2Pd",
        "outputId": "4b138ade-1c35-4120-ab46-6dba0b0409b5"
      },
      "outputs": [
        {
          "output_type": "stream",
          "name": "stdout",
          "text": [
            "0.8505499999999999\n",
            "{'n_estimators': 100}\n"
          ]
        }
      ],
      "source": [
        "print(BAGgrid_result.best_score_)\n",
        "print(BAGgrid_result.best_params_)"
      ]
    },
    {
      "cell_type": "code",
      "execution_count": null,
      "metadata": {
        "id": "rfzSZ2A7Z2Pd"
      },
      "outputs": [],
      "source": [
        "# fine tune GradientBoostingClassifier\n",
        "\n",
        "GBMgrid = {'n_estimators': [100, 200]}\n",
        "GBMclf = GradientBoostingClassifier(learning_rate=0.1, min_samples_split=500, min_samples_leaf=50,\n",
        "                                    max_depth=8, max_features='sqrt', subsample=0.8, random_state=42)\n",
        "GBMgrid_search = GridSearchCV(estimator=GBMclf, param_grid=GBMgrid, n_jobs=-1, cv=cv,\n",
        "                              scoring='accuracy', error_score=0)\n",
        "GBMgrid_result = GBMgrid_search.fit(X_train, y_train)"
      ]
    },
    {
      "cell_type": "code",
      "execution_count": null,
      "metadata": {
        "colab": {
          "base_uri": "https://localhost:8080/"
        },
        "id": "VPHG8Tc0Z2Pg",
        "outputId": "9c647e85-52d4-454a-dc41-e73496a174ae"
      },
      "outputs": [
        {
          "output_type": "stream",
          "name": "stdout",
          "text": [
            "0.8670585433381319\n",
            "{'n_estimators': 200}\n"
          ]
        }
      ],
      "source": [
        "print(GBMgrid_result.best_score_)\n",
        "print(GBMgrid_result.best_params_)"
      ]
    },
    {
      "cell_type": "code",
      "source": [
        "# fine tune Decision Tree\n",
        "param_grid = [{\n",
        "    'max_depth': [2, 3, 4, 5],\n",
        "    'max_features' : [5, 10, 15, 20],\n",
        "    'min_samples_split' : [25, 50, 100, 200],\n",
        "    'min_samples_leaf' : [25, 50, 100, 200]\n",
        "}]\n",
        "grid_search = GridSearchCV(DecisionTreeClassifier(), param_grid, cv=5, scoring='accuracy', return_train_score=True)\n",
        "result = grid_search.fit(X_train, y_train)\n"
      ],
      "metadata": {
        "id": "LiVXguaNko-e"
      },
      "execution_count": null,
      "outputs": []
    },
    {
      "cell_type": "code",
      "source": [
        "print(result.best_score_)\n",
        "print(result.best_params_)"
      ],
      "metadata": {
        "colab": {
          "base_uri": "https://localhost:8080/"
        },
        "id": "Nz7mqcZ8nQnK",
        "outputId": "0ea4df32-92f6-4846-a7b8-f1a9008b6beb"
      },
      "execution_count": null,
      "outputs": [
        {
          "output_type": "stream",
          "name": "stdout",
          "text": [
            "0.8322668679892061\n",
            "{'max_depth': 5, 'max_features': 20, 'min_samples_leaf': 25, 'min_samples_split': 100}\n"
          ]
        }
      ]
    },
    {
      "cell_type": "code",
      "source": [
        "# fine tune Random forest\n",
        "param_grid = [{\n",
        "    'max_depth': [2, 3],\n",
        "    'max_features' : [5, 10],\n",
        "    'min_samples_split' : [25, 50],\n",
        "    'min_samples_leaf' : [25, 50],\n",
        "    'n_estimators': [5, 10, 20]\n",
        "}]\n",
        "forest = RandomForestClassifier()\n",
        "grid_search = GridSearchCV(forest, param_grid, cv=5, scoring='accuracy', return_train_score=True)\n",
        "result = grid_search.fit(X_train, y_train)"
      ],
      "metadata": {
        "id": "m3omaaWRnh5L"
      },
      "execution_count": null,
      "outputs": []
    },
    {
      "cell_type": "code",
      "source": [
        "print(result.best_score_)\n",
        "print(result.best_params_)"
      ],
      "metadata": {
        "colab": {
          "base_uri": "https://localhost:8080/"
        },
        "id": "8_eXS-umniH4",
        "outputId": "183bcaef-c281-4ef4-db7c-bbb66dc0b48a"
      },
      "execution_count": null,
      "outputs": [
        {
          "output_type": "stream",
          "name": "stdout",
          "text": [
            "0.8131805210818405\n",
            "{'max_depth': 3, 'max_features': 10, 'min_samples_leaf': 25, 'min_samples_split': 25, 'n_estimators': 5}\n"
          ]
        }
      ]
    },
    {
      "cell_type": "markdown",
      "metadata": {
        "id": "DLSAeaQpZ2Pt"
      },
      "source": [
        "Well, seems like if the `n_estimators` is equal to 200, the GradientBoostingClassifier performance incrase to `86.69%`, then we can update our hyperparameter for GradientBoostingClassfier and train it according to our Training Subset, now we have the winner, is GradientBoostingClassifier algorithm."
      ]
    },
    {
      "cell_type": "markdown",
      "metadata": {
        "id": "KEvabk4gZ2Pu"
      },
      "source": [
        "### Final: Train the best model"
      ]
    },
    {
      "cell_type": "code",
      "execution_count": null,
      "metadata": {
        "colab": {
          "base_uri": "https://localhost:8080/",
          "height": 109
        },
        "id": "EfIdqSLpZ2Pv",
        "outputId": "d0a1263f-f058-44e7-8f5b-4ca45170fd33"
      },
      "outputs": [
        {
          "output_type": "execute_result",
          "data": {
            "text/plain": [
              "GradientBoostingClassifier(max_depth=8, max_features='sqrt',\n",
              "                           min_samples_leaf=50, min_samples_split=500,\n",
              "                           n_estimators=200, random_state=42, subsample=0.8)"
            ],
            "text/html": [
              "<style>#sk-container-id-2 {color: black;background-color: white;}#sk-container-id-2 pre{padding: 0;}#sk-container-id-2 div.sk-toggleable {background-color: white;}#sk-container-id-2 label.sk-toggleable__label {cursor: pointer;display: block;width: 100%;margin-bottom: 0;padding: 0.3em;box-sizing: border-box;text-align: center;}#sk-container-id-2 label.sk-toggleable__label-arrow:before {content: \"▸\";float: left;margin-right: 0.25em;color: #696969;}#sk-container-id-2 label.sk-toggleable__label-arrow:hover:before {color: black;}#sk-container-id-2 div.sk-estimator:hover label.sk-toggleable__label-arrow:before {color: black;}#sk-container-id-2 div.sk-toggleable__content {max-height: 0;max-width: 0;overflow: hidden;text-align: left;background-color: #f0f8ff;}#sk-container-id-2 div.sk-toggleable__content pre {margin: 0.2em;color: black;border-radius: 0.25em;background-color: #f0f8ff;}#sk-container-id-2 input.sk-toggleable__control:checked~div.sk-toggleable__content {max-height: 200px;max-width: 100%;overflow: auto;}#sk-container-id-2 input.sk-toggleable__control:checked~label.sk-toggleable__label-arrow:before {content: \"▾\";}#sk-container-id-2 div.sk-estimator input.sk-toggleable__control:checked~label.sk-toggleable__label {background-color: #d4ebff;}#sk-container-id-2 div.sk-label input.sk-toggleable__control:checked~label.sk-toggleable__label {background-color: #d4ebff;}#sk-container-id-2 input.sk-hidden--visually {border: 0;clip: rect(1px 1px 1px 1px);clip: rect(1px, 1px, 1px, 1px);height: 1px;margin: -1px;overflow: hidden;padding: 0;position: absolute;width: 1px;}#sk-container-id-2 div.sk-estimator {font-family: monospace;background-color: #f0f8ff;border: 1px dotted black;border-radius: 0.25em;box-sizing: border-box;margin-bottom: 0.5em;}#sk-container-id-2 div.sk-estimator:hover {background-color: #d4ebff;}#sk-container-id-2 div.sk-parallel-item::after {content: \"\";width: 100%;border-bottom: 1px solid gray;flex-grow: 1;}#sk-container-id-2 div.sk-label:hover label.sk-toggleable__label {background-color: #d4ebff;}#sk-container-id-2 div.sk-serial::before {content: \"\";position: absolute;border-left: 1px solid gray;box-sizing: border-box;top: 0;bottom: 0;left: 50%;z-index: 0;}#sk-container-id-2 div.sk-serial {display: flex;flex-direction: column;align-items: center;background-color: white;padding-right: 0.2em;padding-left: 0.2em;position: relative;}#sk-container-id-2 div.sk-item {position: relative;z-index: 1;}#sk-container-id-2 div.sk-parallel {display: flex;align-items: stretch;justify-content: center;background-color: white;position: relative;}#sk-container-id-2 div.sk-item::before, #sk-container-id-2 div.sk-parallel-item::before {content: \"\";position: absolute;border-left: 1px solid gray;box-sizing: border-box;top: 0;bottom: 0;left: 50%;z-index: -1;}#sk-container-id-2 div.sk-parallel-item {display: flex;flex-direction: column;z-index: 1;position: relative;background-color: white;}#sk-container-id-2 div.sk-parallel-item:first-child::after {align-self: flex-end;width: 50%;}#sk-container-id-2 div.sk-parallel-item:last-child::after {align-self: flex-start;width: 50%;}#sk-container-id-2 div.sk-parallel-item:only-child::after {width: 0;}#sk-container-id-2 div.sk-dashed-wrapped {border: 1px dashed gray;margin: 0 0.4em 0.5em 0.4em;box-sizing: border-box;padding-bottom: 0.4em;background-color: white;}#sk-container-id-2 div.sk-label label {font-family: monospace;font-weight: bold;display: inline-block;line-height: 1.2em;}#sk-container-id-2 div.sk-label-container {text-align: center;}#sk-container-id-2 div.sk-container {/* jupyter's `normalize.less` sets `[hidden] { display: none; }` but bootstrap.min.css set `[hidden] { display: none !important; }` so we also need the `!important` here to be able to override the default hidden behavior on the sphinx rendered scikit-learn.org. See: https://github.com/scikit-learn/scikit-learn/issues/21755 */display: inline-block !important;position: relative;}#sk-container-id-2 div.sk-text-repr-fallback {display: none;}</style><div id=\"sk-container-id-2\" class=\"sk-top-container\"><div class=\"sk-text-repr-fallback\"><pre>GradientBoostingClassifier(max_depth=8, max_features=&#x27;sqrt&#x27;,\n",
              "                           min_samples_leaf=50, min_samples_split=500,\n",
              "                           n_estimators=200, random_state=42, subsample=0.8)</pre><b>In a Jupyter environment, please rerun this cell to show the HTML representation or trust the notebook. <br />On GitHub, the HTML representation is unable to render, please try loading this page with nbviewer.org.</b></div><div class=\"sk-container\" hidden><div class=\"sk-item\"><div class=\"sk-estimator sk-toggleable\"><input class=\"sk-toggleable__control sk-hidden--visually\" id=\"sk-estimator-id-2\" type=\"checkbox\" checked><label for=\"sk-estimator-id-2\" class=\"sk-toggleable__label sk-toggleable__label-arrow\">GradientBoostingClassifier</label><div class=\"sk-toggleable__content\"><pre>GradientBoostingClassifier(max_depth=8, max_features=&#x27;sqrt&#x27;,\n",
              "                           min_samples_leaf=50, min_samples_split=500,\n",
              "                           n_estimators=200, random_state=42, subsample=0.8)</pre></div></div></div></div></div>"
            ]
          },
          "metadata": {},
          "execution_count": 122
        }
      ],
      "source": [
        "model = GradientBoostingClassifier(n_estimators=200, learning_rate=0.1, min_samples_split=500, min_samples_leaf=50,\n",
        "                                   max_depth=8, max_features='sqrt', subsample=0.8, random_state=42)\n",
        "\n",
        "model.fit(X_train, y_train)"
      ]
    },
    {
      "cell_type": "code",
      "execution_count": null,
      "metadata": {
        "colab": {
          "base_uri": "https://localhost:8080/"
        },
        "id": "sS0ROHjsZ2Pw",
        "outputId": "73491261-29e7-4436-cfa5-64ed77b3e582"
      },
      "outputs": [
        {
          "output_type": "stream",
          "name": "stdout",
          "text": [
            "The model test set accuracy is: 86.9%.\n"
          ]
        }
      ],
      "source": [
        "# evaluate the testing subset\n",
        "TestScore = model.score(X_test, y_test)\n",
        "print(f\"The model test_set accuracy is: {(TestScore*100):.1f}%.\")"
      ]
    },
    {
      "cell_type": "code",
      "execution_count": null,
      "metadata": {
        "colab": {
          "base_uri": "https://localhost:8080/"
        },
        "id": "hyiCob01Z2Px",
        "outputId": "f86af3f4-55a6-496e-cc7f-dc79221faa95"
      },
      "outputs": [
        {
          "output_type": "stream",
          "name": "stdout",
          "text": [
            "              precision    recall  f1-score   support\n",
            "\n",
            "           0       0.89      0.94      0.92      7416\n",
            "           1       0.78      0.64      0.70      2352\n",
            "\n",
            "    accuracy                           0.87      9768\n",
            "   macro avg       0.84      0.79      0.81      9768\n",
            "weighted avg       0.86      0.87      0.86      9768\n",
            "\n"
          ]
        }
      ],
      "source": [
        "# perform the Classification Report\n",
        "from sklearn.metrics import classification_report\n",
        "\n",
        "predicted = model.predict(X_test)\n",
        "print(classification_report(y_test, predicted))\n"
      ]
    }
  ],
  "metadata": {
    "colab": {
      "provenance": [],
      "include_colab_link": true
    },
    "file_extension": ".py",
    "kernelspec": {
      "display_name": "Python 3 (ipykernel)",
      "language": "python",
      "name": "python3"
    },
    "language_info": {
      "codemirror_mode": {
        "name": "ipython",
        "version": 3
      },
      "file_extension": ".py",
      "mimetype": "text/x-python",
      "name": "python",
      "nbconvert_exporter": "python",
      "pygments_lexer": "ipython3",
      "version": "3.11.0"
    },
    "mimetype": "text/x-python",
    "name": "python",
    "npconvert_exporter": "python",
    "pygments_lexer": "ipython3",
    "version": 3
  },
  "nbformat": 4,
  "nbformat_minor": 0
}